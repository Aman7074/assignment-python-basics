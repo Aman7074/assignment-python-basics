{
  "nbformat": 4,
  "nbformat_minor": 0,
  "metadata": {
    "colab": {
      "provenance": []
    },
    "kernelspec": {
      "name": "python3",
      "display_name": "Python 3"
    },
    "language_info": {
      "name": "python"
    }
  },
  "cells": [
    {
      "cell_type": "markdown",
      "source": [
        "# THEORY QUESTIONS"
      ],
      "metadata": {
        "id": "fCeNdNvrgGAR"
      }
    },
    {
      "cell_type": "markdown",
      "source": [
        "Qn 1- What is Python, and why is it popular.\n",
        "\n",
        "Ans- Python is a high-level, interpreted programming language known for its simplicity, readability, and versatility. It was created by Guido van Rossum and first released in 1991. Python is widely used in web development, data science, artificial intelligence, machine learning, automation, and more.\n",
        "\n",
        "# Reason why Python is Popular\n",
        "Easy to Learn and  Use - Python is simple and readable, making it beginner-friendly.\n",
        "\n",
        "Versatile - It is used in various fields, including web development, data analysis, machine learning, automation, etc.\n",
        "\n",
        "Large Community Support - Python has a vast community, so finding solutions to problems is easier.\n",
        "\n",
        "Rich Libraries & Frameworks - Libraries like NumPy, Pandas and Django make development faster and more efficient.\n",
        "\n",
        "Cross-Platform Compatibility - Python runs on Windows, macOS, and Linux without modification."
      ],
      "metadata": {
        "id": "W8b51OiY5_Fa"
      }
    },
    {
      "cell_type": "markdown",
      "source": [
        "Qn 2- What is an interpreter in Python?\n",
        "\n",
        "Ans- An interpreter in Python is a program that executes Python code line by line, converting it into machine-readable instructions. Unlike compiled languages like 'java' , 'C', which require code to be translated into machine code before execution, Python’s interpreter processes code at runtime."
      ],
      "metadata": {
        "id": "oIdQlt9cASm4"
      }
    },
    {
      "cell_type": "markdown",
      "source": [
        "Qn 3- What are pre-defined keywords in Python ?\n",
        "\n",
        "Ans- Pre-defined keywords in Python are reserved words that have special meanings and cannot be used as variable names, function names, or identifiers. These keywords are built into the language and help define Python's syntax and structure.\n",
        "\n",
        "examples- false, true, and, def   \n",
        "etc..."
      ],
      "metadata": {
        "id": "juGGPbDKBbOp"
      }
    },
    {
      "cell_type": "markdown",
      "source": [
        "Qn 4- Can keywords be used as variable names ?\n",
        "\n",
        "Ans- No, keywords can't be used as variable names in Python. because  keywords have special meanings in the language, using them as variable names will result in a Error."
      ],
      "metadata": {
        "id": "Fq9zbKEGDwvB"
      }
    },
    {
      "cell_type": "markdown",
      "source": [
        "Qn 5- what is mutability in python?\n",
        "\n",
        "Ans- Mutability in Python refers to whether an object can be modified after it is created.\n",
        "\n",
        "Mutable objects: Can be changed after creation (like- their values can be modified without changing their identity)."
      ],
      "metadata": {
        "id": "utCTlkJuazuG"
      }
    },
    {
      "cell_type": "markdown",
      "source": [
        "Qn 6- Why are lists mutable, but tuples are immutable ?\n",
        "\n",
        "Ans- Lists are mutable, while tuples are immutable because of their fundamental design and purpose in Python.\n",
        "\n",
        "Lists :-  Designed to be flexible and dynamic, lists allow modifications (adding, removing, or changing elements).\n",
        "\n",
        "Tuples (tuple):- Designed for fixed collections of data, tuples do not allow modifications once created."
      ],
      "metadata": {
        "id": "BlAp9yolfEJH"
      }
    },
    {
      "cell_type": "markdown",
      "source": [
        "Qn 7- What is the difference between “==” and “is” operators in Python\n",
        "\n",
        "Ans- The '==' and 'is' operators in Python are used for comparisons, but they used for different purposes.\n",
        "\n",
        "# 1. '==' (Equality Operator)\n",
        "It Checks whether values of two objects are equal.\n",
        "\n",
        "It does not check if they are the same object in memory.\n",
        "\n",
        "Works based on the (_eq_) method of objects.\n",
        "\n",
        "# 2. is (Identity Operator)\n",
        "It Checks if two objects refer to the same memory location (like, if they are the same object).\n",
        "Used to compare object identity."
      ],
      "metadata": {
        "id": "i0UiAIUAf_xX"
      }
    },
    {
      "cell_type": "markdown",
      "source": [
        "Qn 8- What are logical operators in Python ?\n",
        "\n",
        "Ans- Logical operators in Python are used to combine conditional statements. They return 'True' or 'False' based on the logic applied to the given expressions.\n",
        "\n",
        "# Python's Logical Operators:\n",
        "1- and (Logical AND)\n",
        "\n",
        "2- or (Logical OR)\n",
        "\n",
        "3- not (Logical NOT)\n"
      ],
      "metadata": {
        "id": "VT8CDL_lCAwm"
      }
    },
    {
      "cell_type": "markdown",
      "source": [
        "Qn 9- What is type casting in Python ?\n",
        "\n",
        "Ans- Type casting (or type conversion) in Python is the process of converting one data type into another. Python supports two types of type casting:\n",
        "\n"
      ],
      "metadata": {
        "id": "5qdIWvy7EgSS"
      }
    },
    {
      "cell_type": "markdown",
      "source": [
        "Qn 10- What is the difference between implicit and explicit type casting ?\n",
        "\n",
        "Ans-\n",
        "# Difference between implicit and explicit type casting\n",
        "\n",
        "1. Implicit Type Casting (Automatic Conversion)\n",
        "Python automatically converts a smaller data type to a larger data type when needed to avoid data loss.\n",
        "\n",
        "2. Explicit Type Casting (Manual Conversion)\n",
        "When automatic conversion is not possible, we manually convert data types using Python’s built-in functions."
      ],
      "metadata": {
        "id": "s-zBjlxVHzwH"
      }
    },
    {
      "cell_type": "markdown",
      "source": [
        "Qn 11- What is the purpose of conditional statements in Python ?\n",
        "\n",
        "Ans- Conditional statements in Python control the flow of a program based on conditions. They allow the program to make decisions by executing different code blocks depending on whether a condition is 'True' or 'False'.\n",
        "\n"
      ],
      "metadata": {
        "id": "UdA7WuLJIjHA"
      }
    },
    {
      "cell_type": "markdown",
      "source": [
        "Qn 12- How does the elif statement work ?\n",
        "\n",
        "Ans- The elif (short for \"else if\") statement allows checking multiple conditions in sequence. If the if condition is False, Python moves to the next elif condition. If none of the if or elif conditions are True, the else block executes if availiable s."
      ],
      "metadata": {
        "id": "Uh-xTUvbLazQ"
      }
    },
    {
      "cell_type": "markdown",
      "source": [
        "Qn 13- What is the difference between for and while loops?\n",
        "\n",
        "Ans-\n",
        "# difference between for and while loops\n",
        "1- for Loop:-\n",
        "Used when the number of iterations is known beforehand.\n",
        "\n",
        "Iterates over a sequence (like a list, range, or string).\n",
        "\n",
        "Automatically updates the loop variable.\n",
        "\n",
        "2-  while Loop:- Used when the number of iterations is not known in advance.\n",
        "\n",
        "Runs as long as a condition is True.\n",
        "\n",
        "The loop variable must be manually updated inside the loop."
      ],
      "metadata": {
        "id": "VZPggLJ3w7es"
      }
    },
    {
      "cell_type": "markdown",
      "source": [
        "Qn 14- Describe a scenario where a while loop is more suitable than a for loop.\n",
        "\n",
        "Ans- A while loop is more suitable when you don’t know how many times the loop needs to run.\n",
        "\n",
        "Scenario: User Password Validation:-\n",
        "Imagine you are writing a program that asks a user to enter a password. The program should keep asking until the user enters the correct password. Since you don’t know how many attempts the user will need, a while loop is the best choice."
      ],
      "metadata": {
        "id": "thNswaPOyXkm"
      }
    },
    {
      "cell_type": "markdown",
      "source": [
        "# Practical Questions\n"
      ],
      "metadata": {
        "id": "2L-8Aqpm3GMJ"
      }
    },
    {
      "cell_type": "markdown",
      "source": [
        "Qn 1- Write a Python program to print \"Hello, World\".\n"
      ],
      "metadata": {
        "id": "zIlatGnw3Ker"
      }
    },
    {
      "cell_type": "code",
      "source": [
        "#Answer\n",
        "\n",
        "print(\"hello world\")"
      ],
      "metadata": {
        "colab": {
          "base_uri": "https://localhost:8080/"
        },
        "id": "HWOjDJWyBrQx",
        "outputId": "61578381-f1a9-4a95-9f7e-c4eed9cfd7a7"
      },
      "execution_count": null,
      "outputs": [
        {
          "output_type": "stream",
          "name": "stdout",
          "text": [
            "hello world\n"
          ]
        }
      ]
    },
    {
      "cell_type": "markdown",
      "source": [
        "Qn 2- Write a Python program that displays your name and age.\n"
      ],
      "metadata": {
        "id": "6yGYiD59DEqL"
      }
    },
    {
      "cell_type": "code",
      "source": [
        "#  Answer-\n",
        "\n",
        "name = \"Aman Mishra\"\n",
        "age = 23\n",
        "\n",
        "print(\"My name is\", name)\n",
        "print(\"I am\", age, \"years old\")"
      ],
      "metadata": {
        "colab": {
          "base_uri": "https://localhost:8080/"
        },
        "id": "ZtgH8qrEEk2v",
        "outputId": "c954c40d-bab3-41cc-9e3b-828f1c9b3afc"
      },
      "execution_count": null,
      "outputs": [
        {
          "output_type": "stream",
          "name": "stdout",
          "text": [
            "My name is Aman Mishra\n",
            "I am 23 years old\n"
          ]
        }
      ]
    },
    {
      "cell_type": "markdown",
      "source": [
        "Qn 3- Write code to print all the pre-defined keywords in Python using the keyword library.\n"
      ],
      "metadata": {
        "id": "Z6mCEx1yGxlY"
      }
    },
    {
      "cell_type": "code",
      "source": [
        "#Answer\n",
        "\n",
        "import keyword\n",
        "\n",
        "print(\"List of Python keywords:\")\n",
        "print(keyword.kwlist)"
      ],
      "metadata": {
        "colab": {
          "base_uri": "https://localhost:8080/"
        },
        "id": "c10PLrEmG3QV",
        "outputId": "0f48dd7d-abca-4ac6-b083-945a60a18c96"
      },
      "execution_count": null,
      "outputs": [
        {
          "output_type": "stream",
          "name": "stdout",
          "text": [
            "List of Python keywords:\n",
            "['False', 'None', 'True', 'and', 'as', 'assert', 'async', 'await', 'break', 'class', 'continue', 'def', 'del', 'elif', 'else', 'except', 'finally', 'for', 'from', 'global', 'if', 'import', 'in', 'is', 'lambda', 'nonlocal', 'not', 'or', 'pass', 'raise', 'return', 'try', 'while', 'with', 'yield']\n"
          ]
        }
      ]
    },
    {
      "cell_type": "markdown",
      "source": [
        "Qn 4- Write a program that checks if a given word is a Python keyword."
      ],
      "metadata": {
        "id": "ozlpON0bHovk"
      }
    },
    {
      "cell_type": "code",
      "source": [
        "# Answer\n",
        "\n",
        "word = input(\"Enter a word: \")\n",
        "\n",
        "if keyword.iskeyword(word):\n",
        "    print(f\"'{word}' is a Python keyword.\")\n",
        "else:\n",
        "    print(f\"'{word}' is NOT a Python keyword.\")"
      ],
      "metadata": {
        "id": "qWQWoqgXH2t0"
      },
      "execution_count": null,
      "outputs": []
    },
    {
      "cell_type": "markdown",
      "source": [
        "Qn 5- 5. Create a list and tuple in Python, and demonstrate how attempting to change an element works differently for each?\n"
      ],
      "metadata": {
        "id": "FN8EAAIbZFbz"
      }
    },
    {
      "cell_type": "code",
      "source": [
        "# Answer-\n",
        "\n",
        "\n",
        "my_list = [1, 2, 3, 4, 5]\n",
        "print(\"Original list:\", my_list)\n",
        "\n",
        "my_list[2] = 99\n",
        "print(\"Modified list:\", my_list)  # Lists are mutable, so it works\n",
        "\n",
        "my_tuple = (1, 2, 3, 4, 5)\n",
        "print(\"\\nOriginal tuple:\", my_tuple)\n",
        "\n",
        "try:\n",
        "    my_tuple[2] = 99  # This will give an error because tuples are immutable\n",
        "except TypeError as e:\n",
        "    print(\"Error:\", e)"
      ],
      "metadata": {
        "colab": {
          "base_uri": "https://localhost:8080/"
        },
        "id": "7ja5958cZPec",
        "outputId": "71a12ba7-ec62-49c0-85ce-230c2e29ebdc"
      },
      "execution_count": 1,
      "outputs": [
        {
          "output_type": "stream",
          "name": "stdout",
          "text": [
            "Original list: [1, 2, 3, 4, 5]\n",
            "Modified list: [1, 2, 99, 4, 5]\n",
            "\n",
            "Original tuple: (1, 2, 3, 4, 5)\n",
            "Error: 'tuple' object does not support item assignment\n"
          ]
        }
      ]
    },
    {
      "cell_type": "markdown",
      "source": [
        "Qn 6- 6. Write a function to demonstrate the behavior of mutable and immutable arguments."
      ],
      "metadata": {
        "id": "kz6G2W5oZ-8z"
      }
    },
    {
      "cell_type": "code",
      "source": [
        "#Answer\n",
        "\n",
        "\n",
        "def modify_values(num, num_list):\n",
        "    num += 10        # Modifying immutable integer\n",
        "    num_list.append(100)       # Modifying mutable list\n",
        "    print(\"Inside function:\")\n",
        "    print(\"Immutable (num):\", num)\n",
        "    print(\"Mutable (num_list):\", num_list)\n",
        "\n",
        "x = 5\n",
        "\n",
        "my_list = [1, 2, 3]\n",
        "\n",
        "print(\"Before function call:\")\n",
        "print(\"Immutable (x):\", x)\n",
        "print(\"Mutable (my_list):\", my_list)\n",
        "\n",
        "modify_values(x, my_list)\n",
        "\n",
        "print(\"\\nAfter function call:\")\n",
        "print(\"Immutable (x):\", x)  #  unchanged\n",
        "print(\"Mutable (my_list):\", my_list)  # Changed due to mutability"
      ],
      "metadata": {
        "colab": {
          "base_uri": "https://localhost:8080/"
        },
        "id": "PLqprsfTaTfY",
        "outputId": "7d347ebb-e16d-416e-93a1-94ba50f496ed"
      },
      "execution_count": 3,
      "outputs": [
        {
          "output_type": "stream",
          "name": "stdout",
          "text": [
            "Before function call:\n",
            "Immutable (x): 5\n",
            "Mutable (my_list): [1, 2, 3]\n",
            "Inside function:\n",
            "Immutable (num): 15\n",
            "Mutable (num_list): [1, 2, 3, 100]\n",
            "\n",
            "After function call:\n",
            "Immutable (x): 5\n",
            "Mutable (my_list): [1, 2, 3, 100]\n"
          ]
        }
      ]
    },
    {
      "cell_type": "markdown",
      "source": [
        "Qn 7- . Write a program that performs basic arithmetic operations on two user-input numbers."
      ],
      "metadata": {
        "id": "m6SXu3Qwa45K"
      }
    },
    {
      "cell_type": "code",
      "source": [
        "# Answer-\n",
        "\n",
        "\n",
        "num1 = float(input(\"Enter first number: \"))\n",
        "num2 = float(input(\"Enter second number: \"))\n",
        "\n",
        "# arithmetic operations\n",
        "sum_result = num1 + num2\n",
        "difference = num1 - num2\n",
        "product = num1 * num2\n",
        "\n",
        "# Check for division by zero\n",
        "if num2 != 0:\n",
        "    quotient = num1 / num2\n",
        "else:\n",
        "    quotient = \"Undefined (division by zero)\"\n",
        "\n",
        "#  results\n",
        "print(\"\\nResults:\")\n",
        "print(f\"Sum: {sum_result}\")\n",
        "print(f\"Difference: {difference}\")\n",
        "print(f\"Product: {product}\")\n",
        "print(f\"Quotient: {quotient}\")"
      ],
      "metadata": {
        "colab": {
          "base_uri": "https://localhost:8080/"
        },
        "id": "MisGKHo3bSnS",
        "outputId": "de5d2e9d-717e-46c0-dc44-ecde93107841"
      },
      "execution_count": 4,
      "outputs": [
        {
          "output_type": "stream",
          "name": "stdout",
          "text": [
            "Enter first number: 3\n",
            "Enter second number: 5\n",
            "\n",
            "Results:\n",
            "Sum: 8.0\n",
            "Difference: -2.0\n",
            "Product: 15.0\n",
            "Quotient: 0.6\n"
          ]
        }
      ]
    },
    {
      "cell_type": "markdown",
      "source": [
        "Qn 8-  Write a program to demonstrate the use of logical operators."
      ],
      "metadata": {
        "id": "ccP0VmDpcNhU"
      }
    },
    {
      "cell_type": "code",
      "source": [
        "#  Answer-\n",
        "\n",
        "a = int(input(\"Enter first number: \"))\n",
        "b = int(input(\"Enter second number: \"))\n",
        "\n",
        "# logical operators\n",
        "print(\"\\nLogical Operators Demonstration:\")\n",
        "\n",
        "# AND operator\n",
        "print(f\"(a > 0 and b > 0): {a > 0 and b > 0}\")\n",
        "\n",
        "# OR operator\n",
        "print(f\"(a > 0 or b > 0): {a > 0 or b > 0}\")\n",
        "\n",
        "# NOT operator\n",
        "print(f\"not (a > 0): {not (a > 0)}\")\n",
        "print(f\"not (b > 0): {not (b > 0)}\")\n"
      ],
      "metadata": {
        "colab": {
          "base_uri": "https://localhost:8080/"
        },
        "id": "a2k75dXicWYq",
        "outputId": "b36a7eff-5249-4b7a-d67d-2f6bf89033a8"
      },
      "execution_count": 5,
      "outputs": [
        {
          "output_type": "stream",
          "name": "stdout",
          "text": [
            "Enter first number: 5\n",
            "Enter second number: 2\n",
            "\n",
            "Logical Operators Demonstration:\n",
            "(a > 0 and b > 0): True\n",
            "(a > 0 or b > 0): True\n",
            "not (a > 0): False\n",
            "not (b > 0): False\n"
          ]
        }
      ]
    },
    {
      "cell_type": "markdown",
      "source": [
        "Qn 9-  Write a Python program to convert user input from string to integer, float, and boolean types.\n"
      ],
      "metadata": {
        "id": "8nN_nDsDdNH0"
      }
    },
    {
      "cell_type": "code",
      "source": [
        "#  Answer-\n",
        "\n",
        "user_input = input(\"Enter a value: \")\n",
        "\n",
        "# Convert to integer\n",
        "try:\n",
        "    int_value = int(user_input)\n",
        "    print(f\"Integer value: {int_value}\")\n",
        "except ValueError:\n",
        "    print(\"Cannot convert to an integer.\")\n",
        "\n",
        "# Convert to float\n",
        "try:\n",
        "    float_value = float(user_input)\n",
        "    print(f\"Float value: {float_value}\")\n",
        "except ValueError:\n",
        "    print(\"Cannot convert to a float.\")\n",
        "\n",
        "# Convert to boolean\n",
        "bool_value = bool(user_input)  # Any non-empty string is True\n",
        "print(f\"Boolean value: {bool_value}\")"
      ],
      "metadata": {
        "colab": {
          "base_uri": "https://localhost:8080/"
        },
        "id": "-4Jl6U01dTmr",
        "outputId": "feaab2ac-8a91-4a21-847d-70f7acb78c25"
      },
      "execution_count": 6,
      "outputs": [
        {
          "output_type": "stream",
          "name": "stdout",
          "text": [
            "Enter a value: 5\n",
            "Integer value: 5\n",
            "Float value: 5.0\n",
            "Boolean value: True\n"
          ]
        }
      ]
    },
    {
      "cell_type": "markdown",
      "source": [
        "Qn 10- Write code to demonstrate type casting with list elements.\n"
      ],
      "metadata": {
        "id": "41SX5z0pdz5j"
      }
    },
    {
      "cell_type": "code",
      "source": [
        "#  Answer-\n",
        "\n",
        "\n",
        "str_list = [\"10\", \"20\", \"30\", \"40.5\", \"50.7\"]\n",
        "\n",
        "# Convert to integers\n",
        "int_list = []\n",
        "for item in str_list:\n",
        "    try:\n",
        "        int_list.append(int(float(item)))\n",
        "    except ValueError:\n",
        "        print(f\"Cannot convert '{item}' to an integer.\")\n",
        "\n",
        "print(\"Integer List:\", int_list)\n",
        "\n",
        "# Convert to floats\n",
        "float_list = [float(item) for item in str_list]\n",
        "print(\"Float List:\", float_list)\n",
        "\n",
        "# Convert to booleans\n",
        "bool_list = [bool(item) for item in str_list]\n",
        "print(\"Boolean List:\", bool_list)\n"
      ],
      "metadata": {
        "colab": {
          "base_uri": "https://localhost:8080/"
        },
        "id": "Yc1XrH7tepb5",
        "outputId": "584a1d1f-89a1-44ee-d5bf-d3f1759e2745"
      },
      "execution_count": 15,
      "outputs": [
        {
          "output_type": "stream",
          "name": "stdout",
          "text": [
            "Integer List: [10, 20, 30, 40, 50]\n",
            "Float List: [10.0, 20.0, 30.0, 40.5, 50.7]\n",
            "Boolean List: [True, True, True, True, True]\n"
          ]
        }
      ]
    },
    {
      "cell_type": "markdown",
      "source": [
        "Qn 11- Write a program that checks if a number is positive, negative, or zero.  "
      ],
      "metadata": {
        "id": "TwWlHQ0NettP"
      }
    },
    {
      "cell_type": "code",
      "source": [
        "# Answer-\n",
        "\n",
        "\n",
        "num = float(input(\"Enter a number: \"))\n",
        "\n",
        "\n",
        "if num > 0:\n",
        "    print(\"The number is positive.\")\n",
        "elif num < 0:\n",
        "    print(\"The number is negative.\")\n",
        "else:\n",
        "    print(\"The number is zero.\")\n"
      ],
      "metadata": {
        "colab": {
          "base_uri": "https://localhost:8080/"
        },
        "id": "qOp1wTnoe1eb",
        "outputId": "b78b1fca-8b3c-4947-904e-5bca298c0de0"
      },
      "execution_count": 8,
      "outputs": [
        {
          "output_type": "stream",
          "name": "stdout",
          "text": [
            "Enter a number: 5\n",
            "The number is positive.\n"
          ]
        }
      ]
    },
    {
      "cell_type": "markdown",
      "source": [
        "Qn 12-  Write a for loop to print numbers from 1 to 10."
      ],
      "metadata": {
        "id": "_9NXqS2rfFJv"
      }
    },
    {
      "cell_type": "code",
      "source": [
        "#  Answer-\n",
        "\n",
        "for num in range(1, 11):\n",
        "    print(num)\n"
      ],
      "metadata": {
        "colab": {
          "base_uri": "https://localhost:8080/"
        },
        "id": "eJAMuHwKfQPq",
        "outputId": "90e49e8d-d30e-4306-9783-a9eaf330cb99"
      },
      "execution_count": 9,
      "outputs": [
        {
          "output_type": "stream",
          "name": "stdout",
          "text": [
            "1\n",
            "2\n",
            "3\n",
            "4\n",
            "5\n",
            "6\n",
            "7\n",
            "8\n",
            "9\n",
            "10\n"
          ]
        }
      ]
    },
    {
      "cell_type": "markdown",
      "source": [
        "Qn 13- Write a Python program to find the sum of all even numbers between 1 and 50.\n"
      ],
      "metadata": {
        "id": "smUlunoRfcbZ"
      }
    },
    {
      "cell_type": "code",
      "source": [
        "# Answer-\n",
        "\n",
        "\n",
        "even_sum = 0\n",
        "\n",
        "for num in range(2, 51, 2):  # Start from 2, go up to 50, step by 2\n",
        "    even_sum += num\n",
        "\n",
        "# Display the result\n",
        "print(\"Sum of even numbers between 1 and 50:\", even_sum)\n"
      ],
      "metadata": {
        "colab": {
          "base_uri": "https://localhost:8080/"
        },
        "id": "RdjdrAY-ffXw",
        "outputId": "fe24a3ef-d9e1-4393-dc60-f1726dd524f1"
      },
      "execution_count": 10,
      "outputs": [
        {
          "output_type": "stream",
          "name": "stdout",
          "text": [
            "Sum of even numbers between 1 and 50: 650\n"
          ]
        }
      ]
    },
    {
      "cell_type": "markdown",
      "source": [
        "Qn 14-  Write a program to reverse a string using a while loop.\n"
      ],
      "metadata": {
        "id": "yaSoRWlBgQW2"
      }
    },
    {
      "cell_type": "code",
      "source": [
        "#  Answer-\n",
        "\n",
        "\n",
        "string = input(\"Enter a string: \")\n",
        "\n",
        "reversed_string = \"\"\n",
        "index = len(string) - 1  # Start from the last index\n",
        "\n",
        "# Reverse string using a while loop\n",
        "while index >= 0:\n",
        "    reversed_string += string[index]\n",
        "    index -= 1  # Move to the previous character\n",
        "\n",
        "# Display the reversed string\n",
        "print(\"Reversed string:\", reversed_string)"
      ],
      "metadata": {
        "colab": {
          "base_uri": "https://localhost:8080/"
        },
        "id": "9Zr9pbovgi-0",
        "outputId": "da485881-75e6-49d9-c6e4-bc33ea259d79"
      },
      "execution_count": 13,
      "outputs": [
        {
          "output_type": "stream",
          "name": "stdout",
          "text": [
            "Enter a string: hello\n",
            "Reversed string: olleh\n"
          ]
        }
      ]
    },
    {
      "cell_type": "markdown",
      "source": [
        "Qn 15- Write a Python program to calculate the factorial of a number provided by the user using a while loop.\n"
      ],
      "metadata": {
        "id": "D8qUwVr1g8aw"
      }
    },
    {
      "cell_type": "code",
      "source": [
        "#  Answer-\n",
        "\n",
        "\n",
        "num = int(input(\"Enter a number: \"))\n",
        "\n",
        "factorial = 1\n",
        "i = num\n",
        "\n",
        "#  using a while loop\n",
        "while i > 0:\n",
        "    factorial *= i\n",
        "    i -= 1\n",
        "\n",
        "#  result\n",
        "print(f\"Factorial of {num} is {factorial}\")\n"
      ],
      "metadata": {
        "colab": {
          "base_uri": "https://localhost:8080/"
        },
        "id": "Ml1sOonCg-90",
        "outputId": "3ab1b2f3-4bf3-47f0-b338-1ca6cd8f47ff"
      },
      "execution_count": 14,
      "outputs": [
        {
          "output_type": "stream",
          "name": "stdout",
          "text": [
            "Enter a number: 3\n",
            "Factorial of 3 is 6\n"
          ]
        }
      ]
    }
  ]
}